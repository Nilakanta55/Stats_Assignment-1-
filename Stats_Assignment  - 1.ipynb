{
 "cells": [
  {
   "cell_type": "markdown",
   "metadata": {},
   "source": [
    "### Problem Statement 1"
   ]
  },
  {
   "cell_type": "markdown",
   "metadata": {},
   "source": [
    "#### 1 Calculate mean,mode, median, standard deviation for the problem statements 1 & 2"
   ]
  },
  {
   "cell_type": "markdown",
   "metadata": {},
   "source": [
    "#### The marks awarded for an assignment set for a 8 year class of 20 students were as follows\n",
    "#### 6 7 5 7 7 8 7 6 9 7 4 10 6 8 8 9 5 6 4 8"
   ]
  },
  {
   "cell_type": "code",
   "execution_count": 34,
   "metadata": {},
   "outputs": [],
   "source": [
    "import numpy as np\n",
    "from scipy import stats\n",
    "import math\n",
    "import statistics \n",
    "import os\n",
    "import sys\n",
    "import matplotlib.pyplot as plt\n",
    "import seaborn as sns \n",
    "%matplotlib inline\n",
    "import pandas as pd\n",
    "import scipy.special"
   ]
  },
  {
   "cell_type": "code",
   "execution_count": 6,
   "metadata": {},
   "outputs": [],
   "source": [
    "marks = np.asarray([6, 7, 5, 7, 7, 8, 7, 6, 9, 7, 4, 10, 6, 8, 8, 9, 5, 6, 4, 8,])"
   ]
  },
  {
   "cell_type": "code",
   "execution_count": 12,
   "metadata": {},
   "outputs": [
    {
     "name": "stdout",
     "output_type": "stream",
     "text": [
      "The Mean of the marks is 6.85\n",
      "The media of the marks is 7.0\n",
      "The mode of the marks is 7\n",
      "The standard deviation of the marks is1.5898113095584647\n"
     ]
    }
   ],
   "source": [
    "def stats(marks):\n",
    "    print(f\"The Mean of the marks is {np.mean(marks)}\")\n",
    "    print(f\"The media of the marks is {np.median(marks)}\")\n",
    "    print(f\"The mode of the marks is {statistics.mode(marks)}\")\n",
    "    print(f\"The standard deviation of the marks is{np.std(marks)}\")\n",
    "    \n",
    "stats(marks)"
   ]
  },
  {
   "cell_type": "markdown",
   "metadata": {},
   "source": [
    "### Problem Statement 2"
   ]
  },
  {
   "cell_type": "markdown",
   "metadata": {},
   "source": [
    "#### The number of call from motorists per ddy for roadside service was recorded for perticular month:\n",
    "#### 28, 122, 217, 130, 120, 86, 80, 90, 140, 120, 70, 40, 145, 113, 90, 68, 174, 194, 170, 100, 75, 104, \n",
    "#### 97, 75, 123, 100, 75, 104, 97, 75, 123, 100, 89, 120, 109"
   ]
  },
  {
   "cell_type": "code",
   "execution_count": 17,
   "metadata": {},
   "outputs": [],
   "source": [
    "call_records = np.asarray([28,122,217,130,120,86,80,90,140,120,70,40,145,113,90,68,174,194,170,100,75,104,97,75,123,100,75,104,97,75,123,100,89,120,109])"
   ]
  },
  {
   "cell_type": "code",
   "execution_count": 18,
   "metadata": {},
   "outputs": [
    {
     "name": "stdout",
     "output_type": "stream",
     "text": [
      "The Mean of the marks is 107.51428571428572\n",
      "The media of the marks is 100.0\n",
      "The mode of the marks is 75\n",
      "The standard deviation of the marks is38.77287080168403\n"
     ]
    }
   ],
   "source": [
    "stats(call_records)"
   ]
  },
  {
   "cell_type": "markdown",
   "metadata": {},
   "source": [
    "### Problem Statement 3"
   ]
  },
  {
   "cell_type": "markdown",
   "metadata": {},
   "source": [
    "#### The number of times i go to the gym in weekdays, are given below along with its associtiated probability:\n",
    "#### x = 0,1,2,3,4,5\n",
    "#### f(x) = 0.09, 0.15, 0.40, 0.25, 0.10, 0.01\n",
    "#### Calculte the mean number of workouts in a week. and also evalute the variance involved in it.\n"
   ]
  },
  {
   "cell_type": "code",
   "execution_count": 21,
   "metadata": {},
   "outputs": [],
   "source": [
    "x = np.asarray([0,1,2,3,4,5])\n",
    "f_x = np.array([0.09, 0.15, 0.40, 0.25, 0.10, 0.01])"
   ]
  },
  {
   "cell_type": "code",
   "execution_count": 27,
   "metadata": {},
   "outputs": [
    {
     "name": "stdout",
     "output_type": "stream",
     "text": [
      "mean no. of workouts: 2.15\n",
      "variance of workouts: [1.2275]\n"
     ]
    }
   ],
   "source": [
    "x.reshape(1,-1)\n",
    "f_x.reshape(-1,1)\n",
    "mean = np.dot(x,f_x)\n",
    "variance_of_x = (x-mean)**2\n",
    "varance = np.dot(variance_of_x.reshape(1,-1), f_x)\n",
    "print(f\"mean no. of workouts: {mean}\")\n",
    "print(f\"variance of workouts: {varance}\")"
   ]
  },
  {
   "cell_type": "markdown",
   "metadata": {},
   "source": [
    "### Problem Statement 4"
   ]
  },
  {
   "cell_type": "markdown",
   "metadata": {},
   "source": [
    "#### Let the continuous random variable D denotes the diameter of hole drilled in an aluminimum sheet. The target diameter is achived to be 12.5mm Random distributions in the process often result in inaccuracy\n",
    "\n",
    "#### Historical data shows that the D can be modelled by the PDF (d)= 20e-20(d-12.5) 𝑑 ≥ 12.5. If a part daimeter 𝑑 ≥ 12.6 mm needs to be scrapped, what is the proportion of those parts? what is the CDF when the diameter of 11 mm? what is your conclusion regarding the praportions of| scrap?"
   ]
  },
  {
   "cell_type": "code",
   "execution_count": 29,
   "metadata": {},
   "outputs": [],
   "source": [
    "from scipy import integrate "
   ]
  },
  {
   "cell_type": "code",
   "execution_count": 33,
   "metadata": {
    "scrolled": true
   },
   "outputs": [
    {
     "name": "stdout",
     "output_type": "stream",
     "text": [
      "proportion of parts needs to be scrapped when d>12.6 is : 0.13533528323661398\n",
      "CDF when d= 11mm is :nan\n",
      "proportion of CDF when d>12.5:1.0000000000000024\n"
     ]
    },
    {
     "name": "stderr",
     "output_type": "stream",
     "text": [
      "C:\\Users\\Neelakanta S Shiroor\\anaconda3\\lib\\site-packages\\ipykernel_launcher.py:3: RuntimeWarning: overflow encountered in exp\n",
      "  This is separate from the ipykernel package so we can avoid doing imports until\n",
      "C:\\Users\\Neelakanta S Shiroor\\anaconda3\\lib\\site-packages\\ipykernel_launcher.py:7: IntegrationWarning: The maximum number of subdivisions (50) has been achieved.\n",
      "  If increasing the limit yields no improvement it is advised to analyze \n",
      "  the integrand in order to determine the difficulties.  If the position of a \n",
      "  local difficulty can be determined (singularity, discontinuity) one will \n",
      "  probably gain from splitting up the interval and calling the integrator \n",
      "  on the subranges.  Perhaps a special-purpose integrator should be used.\n",
      "  import sys\n"
     ]
    }
   ],
   "source": [
    "#  PDF (d)= 20e-20(d-12.5) 𝑑 ≥ 12.5\n",
    "\n",
    "PDF = lambda d:20*(np.exp((-20*(d-12.5))))\n",
    "x = 12.6\n",
    "P_x = integrate.quad(PDF, 12.6, np.inf)\n",
    "y = 11\n",
    "CDF = integrate.quad(PDF, -np.inf, y)\n",
    "print(f\"proportion of parts needs to be scrapped when d>12.6 is : {P_x[0]}\")\n",
    "print(f\"CDF when d= 11mm is :{CDF[0]}\")\n",
    "print(f\"proportion of CDF when d>12.5:{integrate.quad(PDF, 12.5, np.inf)[0]}\")"
   ]
  },
  {
   "cell_type": "markdown",
   "metadata": {},
   "source": [
    "#Conclusion \n",
    "#it can be concluded that the function is only valid when d >= 12.5\n",
    "#when d<12.5, the part can be reworked to 12.5 so no scrap in this case.\n",
    "#PDF is not definde for d=11"
   ]
  },
  {
   "cell_type": "markdown",
   "metadata": {},
   "source": [
    "### Problem Statement 5"
   ]
  },
  {
   "cell_type": "markdown",
   "metadata": {},
   "source": [
    "#### A Company manufavtures LED bulbs with a faulty rate of 30%. If i randomly select 6 chosen LEDs, what is the probability of having 2 faulty LEDs in my sample? Calculate the average value of this process. Also evalute the standard deviation associated with it.\n"
   ]
  },
  {
   "cell_type": "code",
   "execution_count": 35,
   "metadata": {},
   "outputs": [
    {
     "name": "stdout",
     "output_type": "stream",
     "text": [
      "a      2.000000\n",
      "B_a    0.324135\n",
      "Name: 2, dtype: float64\n"
     ]
    },
    {
     "data": {
      "text/plain": [
       "Text(0, 0.5, 'probability of Fault')"
      ]
     },
     "execution_count": 35,
     "metadata": {},
     "output_type": "execute_result"
    },
    {
     "data": {
      "image/png": "[encoded data removed]",
      "text/plain": [
       "<Figure size 1080x360 with 1 Axes>"
      ]
     },
     "metadata": {
      "needs_background": "light"
     },
     "output_type": "display_data"
    }
   ],
   "source": [
    "# x = faulty = 0.3\n",
    "# y = not faulty = 0.7\n",
    "x = 0.3\n",
    "y = 0.7\n",
    "df = pd.DataFrame({'a':[int(i) for i in range(7)],\n",
    "                  'B_a':[scipy.special.comb(6,i)*(x**i)*(y**(6-i)) for i in range(7)]})\n",
    "print(df.iloc[2])\n",
    "plt.figure(figsize=(15,5))\n",
    "sns.barplot('a', 'B_a', data = df)\n",
    "plt.xlabel('Number of Faulty leds')\n",
    "plt.ylabel('probability of Fault')"
   ]
  },
  {
   "cell_type": "code",
   "execution_count": 42,
   "metadata": {},
   "outputs": [
    {
     "name": "stdout",
     "output_type": "stream",
     "text": [
      "mean = 2.0\n",
      "Standard Deviation : 1.0\n"
     ]
    }
   ],
   "source": [
    "df['Expected value'] = df['a']*df['B_a']\n",
    "mean=np.round(df['Expected value'].sum())\n",
    "print('mean = {}'.format(mean))\n",
    "df['variance']=df['B_a']*(df['a']-mean)**2\n",
    "std=np.sqrt(df['variance'].sum())\n",
    "print(f\"Standard Deviation : {np.round(std)}\")"
   ]
  },
  {
   "cell_type": "markdown",
   "metadata": {},
   "source": [
    "### Problem Statement 6"
   ]
  },
  {
   "cell_type": "markdown",
   "metadata": {},
   "source": [
    "#### Gaurav and barakha are both preparing for entrance exams. Gaurav attempts to solve 8 quetions per day with correction rate of 75%, while batakha averages around 12 quetions per day with correction rate of 45%. What is the probability that each of them will solve 5 questions ? what do you infer from it ? What are the two main governing factors affecting their ability to solve quetions correctly? Give a pictorial representation of the same to validate your answer."
   ]
  },
  {
   "cell_type": "code",
   "execution_count": 58,
   "metadata": {},
   "outputs": [
    {
     "name": "stdout",
     "output_type": "stream",
     "text": [
      "Probability of each of them solving 5 quetions correctly is : 0.04619989057299213\n",
      "Probability of each of them solving 4,6 quetions correctly is : 0.018374956477894576\n"
     ]
    }
   ],
   "source": [
    "# Guarav- avg=5, p1 = 0.75\n",
    "# Barakha- avg=5, p2=0.45\n",
    "# here the both the students are independent to each other, correction rate of one dooes not effect  another one\n",
    "# G(5)*B(5)\n",
    "\n",
    "from scipy.stats import binom\n",
    "\n",
    "print(f\"Probability of each of them solving 5 quetions correctly is : {binom.pmf(5,8,0.75)*binom.pmf(5,12,0.45)}\")\n",
    "print(f\"Probability of each of them solving 4,6 quetions correctly is : {binom.pmf(4,8,0.75)*binom.pmf(6,12,0.45)}\")\n",
    "#their correction rate effeect their combined probability "
   ]
  },
  {
   "cell_type": "code",
   "execution_count": 68,
   "metadata": {},
   "outputs": [],
   "source": [
    "# following graphs show their correction rates individually and combined\n",
    "\n",
    "def binom_plot(n,p,):\n",
    "    fig,ax = plt.subplots(1,1)\n",
    "    x = np.arange(binom.ppf(0.01, n, p), binom.ppf(0.99, n, p))\n",
    "    ax.plot(x, binom.pmf(x, n, p), 'bo', ms=8, label = 'binom pmf')\n",
    "    ax.vlines(x, 0, binom.pmf(x, n, p), colors = 'b', lw = 5, alpha = 0.5)"
   ]
  },
  {
   "cell_type": "code",
   "execution_count": 69,
   "metadata": {},
   "outputs": [
    {
     "data": {
      "image/png": "[encoded data removed]",
      "text/plain": [
       "<Figure size 432x288 with 1 Axes>"
      ]
     },
     "metadata": {
      "needs_background": "light"
     },
     "output_type": "display_data"
    }
   ],
   "source": [
    "# Guarav\n",
    "binom_plot(8,0.75)"
   ]
  },
  {
   "cell_type": "code",
   "execution_count": 70,
   "metadata": {},
   "outputs": [
    {
     "data": {
      "image/png": "[encoded data removed]",
      "text/plain": [
       "<Figure size 432x288 with 1 Axes>"
      ]
     },
     "metadata": {
      "needs_background": "light"
     },
     "output_type": "display_data"
    }
   ],
   "source": [
    "# Barakha\n",
    "binom_plot(12,0.45)"
   ]
  },
  {
   "cell_type": "code",
   "execution_count": 74,
   "metadata": {},
   "outputs": [
    {
     "data": {
      "text/plain": [
       "<matplotlib.collections.LineCollection at 0x14b2ce17808>"
      ]
     },
     "execution_count": 74,
     "metadata": {},
     "output_type": "execute_result"
    },
    {
     "data": {
      "image/png": "[encoded data removed]",
      "text/plain": [
       "<Figure size 432x288 with 1 Axes>"
      ]
     },
     "metadata": {
      "needs_background": "light"
     },
     "output_type": "display_data"
    }
   ],
   "source": [
    "\n",
    "#maximum combined probability observed at 6 question\n",
    "\n",
    "fig,ax = plt.subplots(1,1)\n",
    "x = np.arange(1,11)\n",
    "ax.plot(x, binom.pmf(x,8,0.75)*binom.pmf(x,12,0.45), 'bo', ms=8, label='binom pmf')\n",
    "ax.vlines(x,0,binom.pmf(x,8,0.75)*binom.pmf(x,12,0.45), colors='b', lw=5, alpha=0.5)\n"
   ]
  },
  {
   "cell_type": "code",
   "execution_count": 75,
   "metadata": {},
   "outputs": [
    {
     "data": {
      "text/plain": [
       "0.04619989057299213"
      ]
     },
     "execution_count": 75,
     "metadata": {},
     "output_type": "execute_result"
    }
   ],
   "source": [
    "from scipy.stats import binom\n",
    "binom.pmf(5,8,0.75)*binom.pmf(5,12,0.45)"
   ]
  },
  {
   "cell_type": "markdown",
   "metadata": {},
   "source": [
    "### Problem Statement 6"
   ]
  },
  {
   "cell_type": "markdown",
   "metadata": {},
   "source": [
    "#### I work as a data analyst in Aeon Learinng Pvt Ltd. After analyzing data,  i make reports, when i have the efficiency of entering 77 words per minute with 6 errors per hour. What is the probability that i will commit 2 errors in a 455-word financial report ? What happens when the no of words increases/decreases(in case of 1000 words, 255 words)?\n",
    "\n",
    "#### How is the 𝜆 affected ?\n",
    "#### How does it influence the PMF?\n",
    "#### Give a pictorial representation of the same to validate your answer"
   ]
  },
  {
   "cell_type": "code",
   "execution_count": 77,
   "metadata": {},
   "outputs": [
    {
     "name": "stdout",
     "output_type": "stream",
     "text": [
      "The pobability of commiting 2 errors in 455 words financial report is :0.09669027375144444\n",
      "The pobability of commiting 2 errors in 1000 words financial report is :0.23012815007300153\n",
      "The pobability of commiting 2 errors in 255 words financial report is :0.039377135392854104\n",
      "The probability of commiting 2 errors in 455 words finacial report is : 0.09669027375144444\n",
      "The probability of commiting 2 errors in 1000 words finacial report is : 0.23012815007300153\n",
      "The probability of commiting 2 errors in 255 words finacial report is : 0.039377135392854104\n"
     ]
    },
    {
     "data": {
      "text/plain": [
       "<matplotlib.collections.LineCollection at 0x14b2d599ac8>"
      ]
     },
     "execution_count": 77,
     "metadata": {},
     "output_type": "execute_result"
    },
    {
     "data": {
      "image/png": "[encoded data removed]",
      "text/plain": [
       "<Figure size 1080x360 with 1 Axes>"
      ]
     },
     "metadata": {
      "needs_background": "light"
     },
     "output_type": "display_data"
    },
    {
     "data": {
      "image/png": "[encoded data removed]",
      "text/plain": [
       "<Figure size 1080x360 with 1 Axes>"
      ]
     },
     "metadata": {
      "needs_background": "light"
     },
     "output_type": "display_data"
    }
   ],
   "source": [
    "#As the number of words increase probability of getting errors increases\n",
    "\n",
    "from scipy.stats import poisson\n",
    "# Rate of entering = 77 per minute\n",
    "# error rate = 6/hour = 0.1 per minute\n",
    "# No of errors per word = 0.1/77\n",
    "unit_mu = 0.1/77\n",
    "def mu(n):\n",
    "    return n * unit_mu\n",
    "print(f\"The probability of commiting 2 errors in 455 words finacial report is : {poisson.pmf(2,mu=mu(455))}\")\n",
    "print(f\"The probability of commiting 2 errors in 1000 words finacial report is : {poisson.pmf(2,mu=mu(1000))}\")\n",
    "print(f\"The probability of commiting 2 errors in 255 words finacial report is : {poisson.pmf(2,mu=mu(255))}\")\n",
    "x = range(100,1000,50)\n",
    "mu = [i*unit_mu for i in x]\n",
    "fig,ax = plt.subplots(1,1,figsize=(15,5))\n",
    "ax.plot(x,poisson.pmf(2,mu), 'bo', ms=8, label='poisson pmf')\n",
    "ax.vlines(x,0, poisson.pmf(2,mu), colors='b', lw=5, alpha=0.5)\n"
   ]
  },
  {
   "cell_type": "code",
   "execution_count": 81,
   "metadata": {},
   "outputs": [
    {
     "data": {
      "text/plain": [
       "<matplotlib.collections.LineCollection at 0x14b2d71ecc8>"
      ]
     },
     "execution_count": 81,
     "metadata": {},
     "output_type": "execute_result"
    },
    {
     "data": {
      "image/png": "[encoded data removed]",
      "text/plain": [
       "<Figure size 1080x360 with 1 Axes>"
      ]
     },
     "metadata": {
      "needs_background": "light"
     },
     "output_type": "display_data"
    }
   ],
   "source": [
    "\n",
    "\n",
    "# value of mu keeps on increasing with number of words\n",
    "fig,ax = plt.subplots(1,1,figsize=(15,5))\n",
    "ax.plot(x,mu, 'bo', ms=8, label='poisson pmf')\n",
    "ax.vlines(x,0,mu, colors='b', lw=5, alpha=0.5)"
   ]
  },
  {
   "cell_type": "markdown",
   "metadata": {},
   "source": [
    "### Problem No.9 is same as problem No.4 "
   ]
  },
  {
   "cell_type": "markdown",
   "metadata": {},
   "source": [
    "### Problem statement 10"
   ]
  },
  {
   "cell_type": "markdown",
   "metadata": {},
   "source": [
    "#### Please compute the following:\n",
    "#### a) P(Z > 1.26), . P(Z < −0.86), P(Z > −1.37), P(−1.25 < Z < 0.37), . P(Z ≤ −4.6)\n",
    "#### b) Find the value 𝑧 such that 𝑃(𝑍 > 𝑧) = 0.05\n",
    "#### c) Find the value of 𝑧 such that 𝑃(−𝑧 < 𝑍 < 𝑧) = 0.99"
   ]
  },
  {
   "cell_type": "code",
   "execution_count": 85,
   "metadata": {},
   "outputs": [
    {
     "name": "stdout",
     "output_type": "stream",
     "text": [
      "P(Z>1.26) =  0.10383\n",
      "P(Z<-0.86) = 0.19489\n",
      "P(Z>-1.37) = 0.91466\n",
      "P(−1.25 < Z < 0.37) = 0.53866\n",
      "P(Z ≤ −4.6) = 0.00000\n"
     ]
    }
   ],
   "source": [
    "from scipy.stats import norm\n",
    "def P(z, b=-np.inf):\n",
    "    return integrate.quad(norm.pdf,b,z)[0]\n",
    "\n",
    "print('P(Z>1.26) = % 0.5f'%(1-P(1.26)))\n",
    "print('P(Z<-0.86) = %0.5f'%P(-0.86))\n",
    "print('P(Z>-1.37) = %.5f'%(1-P(-1.37)))\n",
    "print('P(−1.25 < Z < 0.37) = %.5f'%P(0.37,b=-1.25))\n",
    "print('P(Z ≤ −4.6) = %.5f'%P(-4.6))\n",
    "\n"
   ]
  },
  {
   "cell_type": "code",
   "execution_count": 86,
   "metadata": {},
   "outputs": [
    {
     "name": "stdout",
     "output_type": "stream",
     "text": [
      "P(Z>z)=0.05 is 1.64\n",
      "𝑃(−𝑧 < 𝑍 < 𝑧) = 0.99 is 2.58\n"
     ]
    }
   ],
   "source": [
    "print('P(Z>z)=0.05 is %.2f'%(-1*norm.ppf(0.05)))\n",
    "print('𝑃(−𝑧 < 𝑍 < 𝑧) = 0.99 is %.2f'%(abs(norm.ppf(0.005))))"
   ]
  },
  {
   "cell_type": "markdown",
   "metadata": {},
   "source": [
    "### Problem statement 11"
   ]
  },
  {
   "cell_type": "markdown",
   "metadata": {},
   "source": [
    "#### The current flow in a copper wire follow a normal distribution with a mean of 10 mA and a variance of 4(mA)2.\n",
    "\n",
    "#### What is the probability that a current measurement will exceed 13 mA? What is the probability that a current measurement is between 9 and 11 mA? Determine the current measurement measurement which has a probability of 0.98"
   ]
  },
  {
   "cell_type": "code",
   "execution_count": 88,
   "metadata": {},
   "outputs": [
    {
     "name": "stdout",
     "output_type": "stream",
     "text": [
      "probability that curent > 13mA is:0.06680720126885797\n",
      "probability that current is between 9mA and 11 mA is:1.3085375387259144\n"
     ]
    }
   ],
   "source": [
    "mean = 10 \n",
    "std = np.sqrt(4)\n",
    "\n",
    "def I(z, b = -np.inf):\n",
    "    z = (z-mean)/std\n",
    "    return integrate.quad(norm.pdf,b,z)[0]\n",
    "print(f\"probability that curent > 13mA is:{1-I(13)}\")\n",
    "print(f\"probability that current is between 9mA and 11 mA is:{1-I(11,b=9)}\")"
   ]
  },
  {
   "cell_type": "markdown",
   "metadata": {},
   "source": [
    "### Problem statement 12"
   ]
  },
  {
   "cell_type": "markdown",
   "metadata": {},
   "source": [
    "#### The shaft in a piston has its diameter normally distributed with a mean of 0.2508 inch and a standard deviation of 0.0005 inch. The specification of the shaft are 0.2500∓0.0015 inch. What proportion of shaft are in sync with the specifications ? if the process is centered so that the mean is equal to the target value of 0.2500, what proportion of the shaft conform to the new specifications? what is your conclusion from this experiment?"
   ]
  },
  {
   "cell_type": "code",
   "execution_count": 91,
   "metadata": {},
   "outputs": [
    {
     "name": "stdout",
     "output_type": "stream",
     "text": [
      "Proportion of shafts with dia in range of 0.2485<d<0.2515 when mean diameter:(0.2508, None)\n",
      "Proportion of shafts with dia in range of 0.2485<d<0.2515 when mean diameter:(0.25, None)\n",
      "Proportion fo shaft with dia in range of 0.2485<d<0.2515 when mean diameter:(0.2508, None)\n",
      "Proportion of shafts with dia in range of 0.2485<d<0.2515 when mean diameter:(0.25, None)\n"
     ]
    }
   ],
   "source": [
    "mean_dia = 0.2508\n",
    "std_dia = 0.0005\n",
    "# Specified dia in the range of 0.2485<d<0.2515\n",
    "# case-1 if mean dia = 0.2508\n",
    "def I(mean,std,a,b):\n",
    "    #gives P(z<=x)\n",
    "    a = (a-mean)/std\n",
    "    b = (b-mean)/std\n",
    "print(f\"Proportion fo shaft with dia in range of 0.2485<d<0.2515 when mean diameter:{0.2508, I(0.2508,0.0005,0.2485,0.2515)}\")\n",
    "print(f\"Proportion of shafts with dia in range of 0.2485<d<0.2515 when mean diameter:{0.2500,I(0.2500,0.0005,0.2485,0.2515)}\")\n",
    "\n"
   ]
  },
  {
   "cell_type": "code",
   "execution_count": null,
   "metadata": {},
   "outputs": [],
   "source": []
  }
 ],
 "metadata": {
  "kernelspec": {
   "display_name": "Python 3",
   "language": "python",
   "name": "python3"
  },
  "language_info": {
   "codemirror_mode": {
    "name": "ipython",
    "version": 3
   },
   "file_extension": ".py",
   "mimetype": "text/x-python",
   "name": "python",
   "nbconvert_exporter": "python",
   "pygments_lexer": "ipython3",
   "version": "3.7.6"
  }
 },
 "nbformat": 4,
 "nbformat_minor": 4
}
